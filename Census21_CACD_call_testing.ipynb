{
 "cells": [
  {
   "cell_type": "code",
   "execution_count": 1,
   "metadata": {},
   "outputs": [
    {
     "name": "stderr",
     "output_type": "stream",
     "text": [
      "C:\\Users\\Cusse\\Anaconda3\\lib\\site-packages\\pandas\\core\\computation\\expressions.py:20: UserWarning: Pandas requires version '2.7.3' or newer of 'numexpr' (version '2.7.1' currently installed).\n",
      "  from pandas.core.computation.check import NUMEXPR_INSTALLED\n"
     ]
    }
   ],
   "source": [
    "import pandas as pd\n",
    "import numpy as np\n",
    "import itertools\n",
    "\n",
    "from Census21_CACD_Wrapper import APIWrapper\n",
    "from tqdm import tqdm"
   ]
  },
  {
   "cell_type": "code",
   "execution_count": 2,
   "metadata": {},
   "outputs": [],
   "source": [
    "api = APIWrapper(logger=False)"
   ]
  },
  {
   "cell_type": "code",
   "execution_count": null,
   "metadata": {},
   "outputs": [
    {
     "name": "stderr",
     "output_type": "stream",
     "text": [
      "completing searches:   0%|          | 0/435 [00:00<?, ?it/s]"
     ]
    },
    {
     "name": "stdout",
     "output_type": "stream",
     "text": [
      "nat\n"
     ]
    },
    {
     "name": "stderr",
     "output_type": "stream",
     "text": [
      "completing searches: 100%|██████████| 435/435 [04:27<00:00,  1.62it/s]\n",
      "completing searches:   0%|          | 0/435 [00:00<?, ?it/s]"
     ]
    },
    {
     "name": "stdout",
     "output_type": "stream",
     "text": [
      "ctry\n"
     ]
    },
    {
     "name": "stderr",
     "output_type": "stream",
     "text": [
      "completing searches: 100%|██████████| 435/435 [05:35<00:00,  1.30it/s]\n",
      "completing searches:   0%|          | 0/435 [00:00<?, ?it/s]"
     ]
    },
    {
     "name": "stdout",
     "output_type": "stream",
     "text": [
      "rgn\n"
     ]
    },
    {
     "name": "stderr",
     "output_type": "stream",
     "text": [
      "completing searches: 100%|██████████| 435/435 [04:52<00:00,  1.49it/s]\n",
      "completing searches:   0%|          | 0/435 [00:00<?, ?it/s]"
     ]
    },
    {
     "name": "stdout",
     "output_type": "stream",
     "text": [
      "lep\n"
     ]
    },
    {
     "name": "stderr",
     "output_type": "stream",
     "text": [
      "completing searches: 100%|██████████| 435/435 [05:33<00:00,  1.30it/s]\n",
      "completing searches:   0%|          | 0/435 [00:00<?, ?it/s]"
     ]
    },
    {
     "name": "stdout",
     "output_type": "stream",
     "text": [
      "nhser\n"
     ]
    },
    {
     "name": "stderr",
     "output_type": "stream",
     "text": [
      "completing searches: 100%|██████████| 435/435 [05:04<00:00,  1.43it/s]\n",
      "completing searches:   0%|          | 0/435 [00:00<?, ?it/s]"
     ]
    },
    {
     "name": "stdout",
     "output_type": "stream",
     "text": [
      "lhb\n"
     ]
    },
    {
     "name": "stderr",
     "output_type": "stream",
     "text": [
      "completing searches:  10%|▉         | 43/435 [00:30<04:22,  1.49it/s]"
     ]
    }
   ],
   "source": [
    "dims = list(api.get_dims_by_pop_type('UR').values())\n",
    "areas = list(api.get_areas_by_pop_type('UR').values())\n",
    "\n",
    "combos = [sorted(i) for i in itertools.product(dims, dims)]\n",
    "trimmed_combos = sorted(list(map(list, set(map(frozenset, combos)))))\n",
    "no_single_searches = [i for i in trimmed_combos if len(i) == 2]\n",
    "\n",
    "searches = []\n",
    "\n",
    "for area in areas:\n",
    "    print(area)\n",
    "    for dim1, dim2 in tqdm(no_single_searches, 'completing searches'):\n",
    "            res = api.query_api('UR', f'{dim1},{dim2}', f'{area}')\n",
    "            if res is None:\n",
    "                searches.append([dim1, dim2, area, np.nan])\n",
    "            else:\n",
    "                searches.append([dim1, dim2, area, len(res)])\n",
    "\n",
    "searches_df = pd.DataFrame(searches, columns=['dimension1', 'dimension2', 'area', 'len'])\n",
    "searches_df.to_csv('./api_call_test.csv', index=False)"
   ]
  },
  {
   "cell_type": "code",
   "execution_count": 10,
   "metadata": {},
   "outputs": [],
   "source": [
    "searches_df = pd.DataFrame(searches, columns=['dimension1', 'dimension2', 'area', 'len'])\n",
    "searches_df.to_csv('./api_call_test.csv', index=False)"
   ]
  },
  {
   "cell_type": "code",
   "execution_count": 16,
   "metadata": {},
   "outputs": [],
   "source": []
  },
  {
   "cell_type": "code",
   "execution_count": null,
   "metadata": {},
   "outputs": [],
   "source": []
  }
 ],
 "metadata": {
  "kernelspec": {
   "display_name": "Python 3",
   "language": "python",
   "name": "python3"
  },
  "language_info": {
   "codemirror_mode": {
    "name": "ipython",
    "version": 3
   },
   "file_extension": ".py",
   "mimetype": "text/x-python",
   "name": "python",
   "nbconvert_exporter": "python",
   "pygments_lexer": "ipython3",
   "version": "3.8.3"
  }
 },
 "nbformat": 4,
 "nbformat_minor": 4
}
