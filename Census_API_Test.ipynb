{
 "cells": [
  {
   "cell_type": "code",
   "execution_count": 1,
   "metadata": {},
   "outputs": [
    {
     "name": "stderr",
     "output_type": "stream",
     "text": [
      "C:\\Users\\Cusse\\Anaconda3\\lib\\site-packages\\pandas\\core\\computation\\expressions.py:20: UserWarning: Pandas requires version '2.7.3' or newer of 'numexpr' (version '2.7.1' currently installed).\n",
      "  from pandas.core.computation.check import NUMEXPR_INSTALLED\n"
     ]
    }
   ],
   "source": [
    "from CensusAPI_ClassV01_2 import APIWrapper"
   ]
  },
  {
   "cell_type": "code",
   "execution_count": 2,
   "metadata": {},
   "outputs": [
    {
     "data": {
      "text/plain": [
       "{'England and Wales': 'nat',\n",
       " 'Countries': 'ctry',\n",
       " 'Regions': 'rgn',\n",
       " 'Local enterprise partnerships': 'lep',\n",
       " 'NHS England regions': 'nhser',\n",
       " 'Local health boards': 'lhb',\n",
       " 'Integrated care boards': 'icb',\n",
       " 'Sub integrated care board locations': 'sicbl',\n",
       " '2023 Upper tier local authorities': 'utla23',\n",
       " 'Upper tier local authorities': 'utla',\n",
       " '2023 Lower tier local authorities': 'ltla23',\n",
       " 'Lower tier local authorities': 'ltla',\n",
       " 'Senedd constituencies': 'senc',\n",
       " 'Westminster Parliamentary constituencies': 'wpc',\n",
       " 'Electoral wards and divisions': 'wd',\n",
       " 'Middle layer Super Output Areas': 'msoa',\n",
       " 'Lower layer Super Output Areas': 'lsoa',\n",
       " 'Output Areas': 'oa'}"
      ]
     },
     "execution_count": 2,
     "metadata": {},
     "output_type": "execute_result"
    }
   ],
   "source": [
    "api = APIWrapper(logger=False)\n",
    "\n",
    "api.get_areas_by_pop_type('UR')"
   ]
  },
  {
   "cell_type": "code",
   "execution_count": 3,
   "metadata": {},
   "outputs": [
    {
     "data": {
      "text/plain": [
       "{'Economic activity status last week (8 categories)': 'activity_last_week',\n",
       " 'Age of arrival in the UK (23 categories)': 'age_arrival_uk_23a',\n",
       " 'Second address indicator (3 categories)': 'alternative_address_indicator',\n",
       " 'Country of birth (extended) (190 categories)': 'country_of_birth_190a',\n",
       " 'Country of birth (60 categories)': 'country_of_birth_60a',\n",
       " 'Disability (5 categories)': 'disability',\n",
       " 'Economic activity status (12 categories)': 'economic_activity_status_12a',\n",
       " 'Proficiency in English language (6 categories)': 'english_proficiency',\n",
       " 'Ethnic group (20 categories)': 'ethnic_group_tb_20b',\n",
       " 'Employment history (4 categories)': 'has_ever_worked',\n",
       " 'General health (6 categories)': 'health_in_general',\n",
       " 'Highest level of qualification (8 categories)': 'highest_qualification',\n",
       " 'Hours worked (5 categories)': 'hours_per_week_worked',\n",
       " 'Industry (current) (88 categories)': 'industry_current_88a',\n",
       " 'Industry (former) (17 categories)': 'industry_former_17a',\n",
       " 'Unpaid care (7 categories)': 'is_carer',\n",
       " 'Marital and civil partnership status (12 categories)': 'legal_partnership_status',\n",
       " 'Living arrangements (11 categories)': 'living_arrangements_11a',\n",
       " 'Main language (23 categories)': 'main_language_23a',\n",
       " 'Main language (detailed) (26 categories)': 'main_language_detailed_26a',\n",
       " 'Migrant indicator (5 categories)': 'migrant_ind',\n",
       " 'Multiple passports held (24 categories)': 'multi_passports',\n",
       " 'National identity (17 categories)': 'national_identity_all',\n",
       " 'National identity (detailed) (73 categories)': 'national_identity_detailed',\n",
       " 'National Statistics Socio-economic Classification (NS-SeC) (17 categories)': 'ns_sec',\n",
       " 'Occupation (current) (105 categories)': 'occupation_current_105a',\n",
       " 'Occupation (former) (11 categories)': 'occupation_former',\n",
       " 'Passports held (52 categories)': 'passports_all_52a',\n",
       " 'Place of work indicator (6 categories)': 'place_of_work_ind',\n",
       " 'Religion (10 categories)': 'religion_tb'}"
      ]
     },
     "execution_count": 3,
     "metadata": {},
     "output_type": "execute_result"
    }
   ],
   "source": [
    "api.get_dims_by_pop_type('UR')"
   ]
  },
  {
   "cell_type": "code",
   "execution_count": 4,
   "metadata": {},
   "outputs": [
    {
     "data": {
      "text/html": [
       "<div>\n",
       "<style scoped>\n",
       "    .dataframe tbody tr th:only-of-type {\n",
       "        vertical-align: middle;\n",
       "    }\n",
       "\n",
       "    .dataframe tbody tr th {\n",
       "        vertical-align: top;\n",
       "    }\n",
       "\n",
       "    .dataframe thead th {\n",
       "        text-align: right;\n",
       "    }\n",
       "</style>\n",
       "<table border=\"1\" class=\"dataframe\">\n",
       "  <thead>\n",
       "    <tr style=\"text-align: right;\">\n",
       "      <th></th>\n",
       "      <th>rgn</th>\n",
       "      <th>living_arrangements_11a</th>\n",
       "      <th>occupation_current_105a</th>\n",
       "      <th>count</th>\n",
       "    </tr>\n",
       "  </thead>\n",
       "  <tbody>\n",
       "    <tr>\n",
       "      <th>0</th>\n",
       "      <td>North East</td>\n",
       "      <td>Does not apply</td>\n",
       "      <td>Does not apply</td>\n",
       "      <td>514772</td>\n",
       "    </tr>\n",
       "    <tr>\n",
       "      <th>1</th>\n",
       "      <td>North East</td>\n",
       "      <td>Does not apply</td>\n",
       "      <td>111 Chief executives and senior officials</td>\n",
       "      <td>9</td>\n",
       "    </tr>\n",
       "    <tr>\n",
       "      <th>2</th>\n",
       "      <td>North East</td>\n",
       "      <td>Does not apply</td>\n",
       "      <td>112 Production managers and directors</td>\n",
       "      <td>11</td>\n",
       "    </tr>\n",
       "    <tr>\n",
       "      <th>3</th>\n",
       "      <td>North East</td>\n",
       "      <td>Does not apply</td>\n",
       "      <td>113 Functional managers and directors</td>\n",
       "      <td>24</td>\n",
       "    </tr>\n",
       "    <tr>\n",
       "      <th>4</th>\n",
       "      <td>North East</td>\n",
       "      <td>Does not apply</td>\n",
       "      <td>114 Directors in logistics, warehousing and tr...</td>\n",
       "      <td>0</td>\n",
       "    </tr>\n",
       "    <tr>\n",
       "      <th>...</th>\n",
       "      <td>...</td>\n",
       "      <td>...</td>\n",
       "      <td>...</td>\n",
       "      <td>...</td>\n",
       "    </tr>\n",
       "    <tr>\n",
       "      <th>11545</th>\n",
       "      <td>Wales</td>\n",
       "      <td>Not living in a couple: Widowed or surviving p...</td>\n",
       "      <td>922 Elementary cleaning occupations</td>\n",
       "      <td>1066</td>\n",
       "    </tr>\n",
       "    <tr>\n",
       "      <th>11546</th>\n",
       "      <td>Wales</td>\n",
       "      <td>Not living in a couple: Widowed or surviving p...</td>\n",
       "      <td>923 Elementary security occupations</td>\n",
       "      <td>255</td>\n",
       "    </tr>\n",
       "    <tr>\n",
       "      <th>11547</th>\n",
       "      <td>Wales</td>\n",
       "      <td>Not living in a couple: Widowed or surviving p...</td>\n",
       "      <td>924 Elementary sales occupations</td>\n",
       "      <td>52</td>\n",
       "    </tr>\n",
       "    <tr>\n",
       "      <th>11548</th>\n",
       "      <td>Wales</td>\n",
       "      <td>Not living in a couple: Widowed or surviving p...</td>\n",
       "      <td>925 Elementary storage occupations</td>\n",
       "      <td>150</td>\n",
       "    </tr>\n",
       "    <tr>\n",
       "      <th>11549</th>\n",
       "      <td>Wales</td>\n",
       "      <td>Not living in a couple: Widowed or surviving p...</td>\n",
       "      <td>926 Other elementary services occupations</td>\n",
       "      <td>462</td>\n",
       "    </tr>\n",
       "  </tbody>\n",
       "</table>\n",
       "<p>11550 rows × 4 columns</p>\n",
       "</div>"
      ],
      "text/plain": [
       "              rgn                            living_arrangements_11a  \\\n",
       "0      North East                                     Does not apply   \n",
       "1      North East                                     Does not apply   \n",
       "2      North East                                     Does not apply   \n",
       "3      North East                                     Does not apply   \n",
       "4      North East                                     Does not apply   \n",
       "...           ...                                                ...   \n",
       "11545       Wales  Not living in a couple: Widowed or surviving p...   \n",
       "11546       Wales  Not living in a couple: Widowed or surviving p...   \n",
       "11547       Wales  Not living in a couple: Widowed or surviving p...   \n",
       "11548       Wales  Not living in a couple: Widowed or surviving p...   \n",
       "11549       Wales  Not living in a couple: Widowed or surviving p...   \n",
       "\n",
       "                                 occupation_current_105a   count  \n",
       "0                                         Does not apply  514772  \n",
       "1              111 Chief executives and senior officials       9  \n",
       "2                  112 Production managers and directors      11  \n",
       "3                  113 Functional managers and directors      24  \n",
       "4      114 Directors in logistics, warehousing and tr...       0  \n",
       "...                                                  ...     ...  \n",
       "11545                922 Elementary cleaning occupations    1066  \n",
       "11546                923 Elementary security occupations     255  \n",
       "11547                   924 Elementary sales occupations      52  \n",
       "11548                 925 Elementary storage occupations     150  \n",
       "11549          926 Other elementary services occupations     462  \n",
       "\n",
       "[11550 rows x 4 columns]"
      ]
     },
     "execution_count": 4,
     "metadata": {},
     "output_type": "execute_result"
    }
   ],
   "source": [
    "api.query_api('UR', 'living_arrangements_11a,occupation_current_105a', 'rgn')"
   ]
  },
  {
   "cell_type": "code",
   "execution_count": null,
   "metadata": {},
   "outputs": [],
   "source": []
  }
 ],
 "metadata": {
  "kernelspec": {
   "display_name": "Python 3",
   "language": "python",
   "name": "python3"
  },
  "language_info": {
   "codemirror_mode": {
    "name": "ipython",
    "version": 3
   },
   "file_extension": ".py",
   "mimetype": "text/x-python",
   "name": "python",
   "nbconvert_exporter": "python",
   "pygments_lexer": "ipython3",
   "version": "3.8.3"
  }
 },
 "nbformat": 4,
 "nbformat_minor": 4
}
