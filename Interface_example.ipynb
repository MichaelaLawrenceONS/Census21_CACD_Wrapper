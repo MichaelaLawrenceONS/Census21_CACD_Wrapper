{
 "cells": [
  {
   "cell_type": "code",
   "execution_count": 3,
   "metadata": {},
   "outputs": [],
   "source": [
    "'''\n",
    "Example of the interface usage. \n",
    "Saves data to '/data/output/'\n",
    "API instance passed into interface to avoid API re-connection delays upon resetting interface\n",
    "'''\n",
    "\n",
    "from src.Census21_CACD_Wrapper import APIWrapper\n",
    "from src.Interface import Interface\n",
    "\n",
    "# Create API Instance and pass into Interface Class\n",
    "api = APIWrapper()\n",
    "interface = Interface(api)\n",
    "\n",
    "#Keep Window Running **Required at end of code**\n",
    "interface.window.mainloop()"
   ]
  },
  {
   "cell_type": "code",
   "execution_count": null,
   "metadata": {},
   "outputs": [],
   "source": []
  },
  {
   "cell_type": "code",
   "execution_count": null,
   "metadata": {},
   "outputs": [],
   "source": []
  },
  {
   "cell_type": "code",
   "execution_count": null,
   "metadata": {},
   "outputs": [],
   "source": []
  }
 ],
 "metadata": {
  "kernelspec": {
   "display_name": "Python 3",
   "language": "python",
   "name": "python3"
  },
  "language_info": {
   "codemirror_mode": {
    "name": "ipython",
    "version": 3
   },
   "file_extension": ".py",
   "mimetype": "text/x-python",
   "name": "python",
   "nbconvert_exporter": "python",
   "pygments_lexer": "ipython3",
   "version": "3.8.3"
  }
 },
 "nbformat": 4,
 "nbformat_minor": 4
}
