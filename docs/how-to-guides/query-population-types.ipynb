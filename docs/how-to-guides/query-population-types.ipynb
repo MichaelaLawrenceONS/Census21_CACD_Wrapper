{
 "cells": [
  {
   "cell_type": "markdown",
   "metadata": {},
   "source": [
    "---\n",
    "title: Querying population types\n",
    "description: How to retrieve metadata on population types \n",
    "---"
   ]
  },
  {
   "cell_type": "markdown",
   "metadata": {},
   "source": [
    "The API has many endpoints. One of them returns information about the\n",
    "population types available to users. This guide demonstrates how to get those\n",
    "metadata with `census21api`\n",
    "\n",
    "## Getting all types\n",
    "\n",
    "We can retrieve population type metadata with the\n",
    "`CensusAPI.query_population_types()` method like so:"
   ]
  },
  {
   "cell_type": "code",
   "execution_count": 1,
   "metadata": {},
   "outputs": [
    {
     "data": {
      "text/html": [
       "<div>\n",
       "<style scoped>\n",
       "    .dataframe tbody tr th:only-of-type {\n",
       "        vertical-align: middle;\n",
       "    }\n",
       "\n",
       "    .dataframe tbody tr th {\n",
       "        vertical-align: top;\n",
       "    }\n",
       "\n",
       "    .dataframe thead th {\n",
       "        text-align: right;\n",
       "    }\n",
       "</style>\n",
       "<table border=\"1\" class=\"dataframe\">\n",
       "  <thead>\n",
       "    <tr style=\"text-align: right;\">\n",
       "      <th></th>\n",
       "      <th>name</th>\n",
       "      <th>label</th>\n",
       "      <th>description</th>\n",
       "      <th>type</th>\n",
       "    </tr>\n",
       "  </thead>\n",
       "  <tbody>\n",
       "    <tr>\n",
       "      <th>0</th>\n",
       "      <td>HH</td>\n",
       "      <td>All households</td>\n",
       "      <td>Either one usual resident living alone or a gr...</td>\n",
       "      <td>microdata</td>\n",
       "    </tr>\n",
       "    <tr>\n",
       "      <th>1</th>\n",
       "      <td>UR_HH</td>\n",
       "      <td>All usual residents in households</td>\n",
       "      <td>A person who usually lives in England or Wales...</td>\n",
       "      <td>microdata</td>\n",
       "    </tr>\n",
       "    <tr>\n",
       "      <th>2</th>\n",
       "      <td>UR_CE</td>\n",
       "      <td>All usual residents in communal establishments</td>\n",
       "      <td>A usual resident who lives in a place that pro...</td>\n",
       "      <td>microdata</td>\n",
       "    </tr>\n",
       "    <tr>\n",
       "      <th>3</th>\n",
       "      <td>UR</td>\n",
       "      <td>All usual residents</td>\n",
       "      <td>The main population base for census statistics...</td>\n",
       "      <td>microdata</td>\n",
       "    </tr>\n",
       "    <tr>\n",
       "      <th>4</th>\n",
       "      <td>HRP</td>\n",
       "      <td>All Household Reference Persons</td>\n",
       "      <td>A person who serves as a reference point, main...</td>\n",
       "      <td>microdata</td>\n",
       "    </tr>\n",
       "  </tbody>\n",
       "</table>\n",
       "</div>"
      ],
      "text/plain": [
       "    name                                           label  \\\n",
       "0     HH                                  All households   \n",
       "1  UR_HH               All usual residents in households   \n",
       "2  UR_CE  All usual residents in communal establishments   \n",
       "3     UR                             All usual residents   \n",
       "4    HRP                 All Household Reference Persons   \n",
       "\n",
       "                                         description       type  \n",
       "0  Either one usual resident living alone or a gr...  microdata  \n",
       "1  A person who usually lives in England or Wales...  microdata  \n",
       "2  A usual resident who lives in a place that pro...  microdata  \n",
       "3  The main population base for census statistics...  microdata  \n",
       "4  A person who serves as a reference point, main...  microdata  "
      ]
     },
     "execution_count": 1,
     "metadata": {},
     "output_type": "execute_result"
    }
   ],
   "source": [
    "from census21api import CensusAPI\n",
    "\n",
    "api = CensusAPI()\n",
    "api.query_population_types()"
   ]
  },
  {
   "cell_type": "markdown",
   "metadata": {},
   "source": [
    "This data frame contains the code, full name, description, and type\n",
    "of every population type exposed through the API.\n",
    "\n",
    ":::{.callout-note}\n",
    "Note that every population type has type `microdata`; these are the\n",
    "only population types we can query for tables. The API exposes many more but\n",
    "they are not currently usable by `census21api`.\n",
    ":::\n",
    "\n",
    "## Filtering for specific populations\n",
    "\n",
    "You can also specify to only see some population types when you call the\n",
    "population querist by listing their codes as arguments:"
   ]
  },
  {
   "cell_type": "code",
   "execution_count": 2,
   "metadata": {},
   "outputs": [
    {
     "data": {
      "text/html": [
       "<div>\n",
       "<style scoped>\n",
       "    .dataframe tbody tr th:only-of-type {\n",
       "        vertical-align: middle;\n",
       "    }\n",
       "\n",
       "    .dataframe tbody tr th {\n",
       "        vertical-align: top;\n",
       "    }\n",
       "\n",
       "    .dataframe thead th {\n",
       "        text-align: right;\n",
       "    }\n",
       "</style>\n",
       "<table border=\"1\" class=\"dataframe\">\n",
       "  <thead>\n",
       "    <tr style=\"text-align: right;\">\n",
       "      <th></th>\n",
       "      <th>name</th>\n",
       "      <th>label</th>\n",
       "      <th>description</th>\n",
       "      <th>type</th>\n",
       "    </tr>\n",
       "  </thead>\n",
       "  <tbody>\n",
       "    <tr>\n",
       "      <th>1</th>\n",
       "      <td>UR_HH</td>\n",
       "      <td>All usual residents in households</td>\n",
       "      <td>A person who usually lives in England or Wales...</td>\n",
       "      <td>microdata</td>\n",
       "    </tr>\n",
       "    <tr>\n",
       "      <th>2</th>\n",
       "      <td>UR_CE</td>\n",
       "      <td>All usual residents in communal establishments</td>\n",
       "      <td>A usual resident who lives in a place that pro...</td>\n",
       "      <td>microdata</td>\n",
       "    </tr>\n",
       "    <tr>\n",
       "      <th>3</th>\n",
       "      <td>UR</td>\n",
       "      <td>All usual residents</td>\n",
       "      <td>The main population base for census statistics...</td>\n",
       "      <td>microdata</td>\n",
       "    </tr>\n",
       "  </tbody>\n",
       "</table>\n",
       "</div>"
      ],
      "text/plain": [
       "    name                                           label  \\\n",
       "1  UR_HH               All usual residents in households   \n",
       "2  UR_CE  All usual residents in communal establishments   \n",
       "3     UR                             All usual residents   \n",
       "\n",
       "                                         description       type  \n",
       "1  A person who usually lives in England or Wales...  microdata  \n",
       "2  A usual resident who lives in a place that pro...  microdata  \n",
       "3  The main population base for census statistics...  microdata  "
      ]
     },
     "execution_count": 2,
     "metadata": {},
     "output_type": "execute_result"
    }
   ],
   "source": [
    "api.query_population_types(\"UR\", \"UR_CE\", \"UR_HH\")"
   ]
  },
  {
   "cell_type": "code",
   "execution_count": null,
   "metadata": {},
   "outputs": [],
   "source": []
  }
 ],
 "metadata": {
  "kernelspec": {
   "display_name": "centhesus",
   "language": "python",
   "name": "python3"
  },
  "language_info": {
   "codemirror_mode": {
    "name": "ipython",
    "version": 3
   },
   "file_extension": ".py",
   "mimetype": "text/x-python",
   "name": "python",
   "nbconvert_exporter": "python",
   "pygments_lexer": "ipython3",
   "version": "3.11.5"
  }
 },
 "nbformat": 4,
 "nbformat_minor": 2
}
