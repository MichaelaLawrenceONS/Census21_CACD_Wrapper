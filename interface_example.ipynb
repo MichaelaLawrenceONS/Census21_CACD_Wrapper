{
 "cells": [
  {
   "cell_type": "code",
   "execution_count": 1,
   "metadata": {},
   "outputs": [
    {
     "ename": "SyntaxError",
     "evalue": "invalid syntax (<ipython-input-1-a9e872ab59da>, line 15)",
     "output_type": "error",
     "traceback": [
      "\u001b[1;36m  File \u001b[1;32m\"<ipython-input-1-a9e872ab59da>\"\u001b[1;36m, line \u001b[1;32m15\u001b[0m\n\u001b[1;33m    from src.census21api.interface Interface\u001b[0m\n\u001b[1;37m                                   ^\u001b[0m\n\u001b[1;31mSyntaxError\u001b[0m\u001b[1;31m:\u001b[0m invalid syntax\n"
     ]
    }
   ],
   "source": [
    "'''\n",
    "Example of the interface usage. \n",
    "API instance passed into interface to avoid API re-connection delays upon resetting interface\n",
    "'''\n",
    "\n",
    "'''\n",
    "Button Explanations:\n",
    "    - Save Data:     Saves the current selection data into /data/output/ (If data is redacted or unretrivable\n",
    "                     no data is saved.)\n",
    "    - Reset:         Resets Interface (Must used to update variable dropdown upon changing residence selection)\n",
    "    - Loop:          Loops through ALL possible combinations of variable 1 & variable 2 for a selected residence \n",
    "                     & regional division\n",
    "'''\n",
    "from src.census21api.wrapper import APIWrapper\n",
    "from src.census21api.interface\n",
    "\n",
    "# Create API Instance and pass into Interface Class\n",
    "api = APIWrapper()\n",
    "interface = Interface(api)\n",
    "\n",
    "#Keep Window Running **Required at end of code**\n",
    "interface.window.mainloop()"
   ]
  },
  {
   "cell_type": "code",
   "execution_count": null,
   "metadata": {},
   "outputs": [],
   "source": []
  },
  {
   "cell_type": "code",
   "execution_count": null,
   "metadata": {},
   "outputs": [],
   "source": []
  },
  {
   "cell_type": "code",
   "execution_count": null,
   "metadata": {},
   "outputs": [],
   "source": []
  }
 ],
 "metadata": {
  "kernelspec": {
   "display_name": "Python 3",
   "language": "python",
   "name": "python3"
  },
  "language_info": {
   "codemirror_mode": {
    "name": "ipython",
    "version": 3
   },
   "file_extension": ".py",
   "mimetype": "text/x-python",
   "name": "python",
   "nbconvert_exporter": "python",
   "pygments_lexer": "ipython3",
   "version": "3.8.3"
  }
 },
 "nbformat": 4,
 "nbformat_minor": 4
}
